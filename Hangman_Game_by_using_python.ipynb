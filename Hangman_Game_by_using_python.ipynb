{
  "nbformat": 4,
  "nbformat_minor": 0,
  "metadata": {
    "colab": {
      "provenance": [],
      "authorship_tag": "ABX9TyN9/XxDDDj/sA0D+IhYNijY",
      "include_colab_link": true
    },
    "kernelspec": {
      "name": "python3",
      "display_name": "Python 3"
    },
    "language_info": {
      "name": "python"
    }
  },
  "cells": [
    {
      "cell_type": "markdown",
      "metadata": {
        "id": "view-in-github",
        "colab_type": "text"
      },
      "source": [
        "<a href=\"https://colab.research.google.com/github/Mamidalarajesh/hangman-game/blob/main/Hangman_Game_by_using_python.ipynb\" target=\"_parent\"><img src=\"https://colab.research.google.com/assets/colab-badge.svg\" alt=\"Open In Colab\"/></a>"
      ]
    },
    {
      "cell_type": "code",
      "execution_count": 2,
      "metadata": {
        "colab": {
          "base_uri": "https://localhost:8080/"
        },
        "id": "33bZbZHM8HhV",
        "outputId": "aa2840a3-5b93-4e9a-a6d9-121c4f9d193b"
      },
      "outputs": [
        {
          "output_type": "stream",
          "name": "stdout",
          "text": [
            "What is your name? harsha\n",
            "Hello, harsha Time to play hangman!\n",
            "Start guessing...\n",
            "______guess a character:hunter\n",
            "Wrong\n",
            "You have 9 more guesses\n",
            "_e_retguess a character:secret\n",
            "secretYou won\n"
          ]
        }
      ],
      "source": [
        "\n",
        "import time\n",
        "\n",
        "name = input(\"What is your name? \")\n",
        "\n",
        "print (\"Hello, \" + name, \"Time to play hangman!\")\n",
        "\n",
        "time.sleep(1)\n",
        "\n",
        "print (\"Start guessing...\")\n",
        "time.sleep(0.5)\n",
        "\n",
        "word = (\"secret\")\n",
        "\n",
        "guesses = ''\n",
        "\n",
        "turns = 10\n",
        "\n",
        "while turns > 0:\n",
        "\n",
        "    failed = 0\n",
        "\n",
        "    for char in word:\n",
        "\n",
        "        if char in guesses:\n",
        "\n",
        "            print (char,end=\"\"),\n",
        "\n",
        "        else:\n",
        "\n",
        "            print (\"_\",end=\"\"),\n",
        "\n",
        "            failed += 1\n",
        "\n",
        "    if failed == 0:\n",
        "        print (\"You won\")\n",
        "        break\n",
        "    guess = input(\"guess a character:\")\n",
        "\n",
        "    guesses += guess\n",
        "\n",
        "    if guess not in word:\n",
        "\n",
        "        turns -= 1\n",
        "\n",
        "        print (\"Wrong\")\n",
        "\n",
        "        print (\"You have\", + turns, 'more guesses' )\n",
        "\n",
        "        if turns == 0:\n",
        "\n",
        "            print (\"You Lose\"  )"
      ]
    }
  ]
}